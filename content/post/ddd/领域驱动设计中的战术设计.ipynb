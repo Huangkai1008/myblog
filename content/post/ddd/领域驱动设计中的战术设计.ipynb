{
 "cells": [
  {
   "attachments": {},
   "cell_type": "markdown",
   "id": "762d1156-c44c-4da4-bec1-3516b5dfa692",
   "metadata": {},
   "source": [
    "## 领域驱动设计中的战术设计"
   ]
  },
  {
   "attachments": {},
   "cell_type": "markdown",
   "id": "2a7a8f51-d06a-4a21-86f4-ac8cb27c2491",
   "metadata": {
    "slideshow": {
     "slide_type": "slide"
    }
   },
   "source": [
    "DDD 中战术模式的作用是管理复杂性并确保领域模型中行为的清晰性。\n",
    "\n",
    "每种战术模式（`building block pattern`）都是为了解决特定的一类问题。\n",
    "\n",
    "像 `value object` 还有 `entity` 这种并不是 DDD 的专有名词，只是在 DDD 这个语境 (类比于 `Bounded Context`) 下又有了自己的含义。"
   ]
  },
  {
   "attachments": {},
   "cell_type": "markdown",
   "id": "d1873fd1-0156-4c91-9f6a-f39a6c61da6c",
   "metadata": {},
   "source": [
    "### Value Object\n",
    "\n",
    "我们一般用 `Value Object` 来表示没有唯一标识符（`identity`）的概念，比如钱、价格这种。\n",
    "\n",
    "钱这种概念大家应该再熟悉不过了，假设我有一张一百块的人民币，你也有一百块的人民币，在这个情境下，人民币的新旧、编号都不重要，那么它们在 DDD 的概念里是相等的。\n",
    "\n",
    "比较值对象是一个关键操作，尽管它们没有唯一标识符，我们使用基于属性/值（`attribute-based equality`/`value-based equality`）来做对比。\n",
    "\n",
    "还有个比较重要的特征就是值对象是不变的（`Immutable`）。\n",
    "\n",
    "如果用 python 的话，可以用 `dataclass` 这个模块来实现 Value Object。"
   ]
  },
  {
   "cell_type": "code",
   "execution_count": 1,
   "id": "1df644cd-aec7-4265-81e2-0130d62477ee",
   "metadata": {},
   "outputs": [],
   "source": [
    "from dataclasses import dataclass\n",
    "from decimal import Decimal\n",
    "\n",
    "@dataclass(frozen=True)\n",
    "class Money:\n",
    "    amount: Decimal\n",
    "\n",
    "\n",
    "m1 = Money(Decimal(100))\n",
    "m2 = Money(Decimal(100))\n",
    "\n",
    "assert m1 == m2"
   ]
  },
  {
   "attachments": {},
   "cell_type": "markdown",
   "id": "59b96d15-b973-4d73-b1be-1673d85fbf65",
   "metadata": {},
   "source": [
    "值对象需要体现丰富的领域知识，DDD 社区里一般喜欢用值对象来取代原始类型，然后要体现内聚性。最直观的可能就是为这个值对象添加方法或者属性。\n",
    "\n",
    "例如钱和钱可以相加，相减等操作，但是因为值对象是不可变的，所以生成的都是新的值对象。"
   ]
  },
  {
   "cell_type": "code",
   "execution_count": 2,
   "id": "f957b0c7",
   "metadata": {
    "ExecuteTime": {
     "end_time": "2023-06-15T08:15:12.873773Z",
     "start_time": "2023-06-15T08:15:12.867828Z"
    }
   },
   "outputs": [
    {
     "name": "stdout",
     "output_type": "stream",
     "text": [
      "199.50\n",
      "0.50\n"
     ]
    }
   ],
   "source": [
    "from typing import Union\n",
    "from dataclasses import dataclass\n",
    "from decimal import Decimal\n",
    "\n",
    "\n",
    "@dataclass(frozen=True)\n",
    "class Money:\n",
    "    amount: Decimal\n",
    "\n",
    "    @classmethod\n",
    "    def of(cls, amount: Union[int, str, float]) -> 'Money':\n",
    "        return Money(Decimal(amount))\n",
    "\n",
    "    def __add__(self, other: 'Money') -> 'Money':\n",
    "        return Money(self.amount + other.amount)\n",
    "\n",
    "    def __sub__(self, other: 'Money') -> 'Money':\n",
    "        return Money(self.amount - other.amount)\n",
    "\n",
    "    def __repr__(self) -> str:\n",
    "        return f'{self.amount:.2f}'\n",
    "\n",
    "m1 = Money.of(100)\n",
    "m2 = Money.of(99.5)\n",
    "\n",
    "print(m1 + m2)\n",
    "print(m1 - m2)"
   ]
  },
  {
   "attachments": {},
   "cell_type": "markdown",
   "id": "891607b0",
   "metadata": {
    "collapsed": false
   },
   "source": [
    "### Entity\n",
    "\n",
    "> Entities are fundamentally about identity—focusing on the “who” rather than the “what.”\n",
    "\n",
    "与 `value object` 不同，`entity`（实体）对象会有唯一标识符，但是定义某个概念是值对象还是实体，还是需要从上下文出发（`context-dependent`）。一个概念在某个上下文中是个实体在另一个上下文中可能是个值对象。\n",
    "\n",
    "通常来说实体的很多属性类型都是值对象，值对象的属性类型也可能是值对象。正如我们上文所说，值对象需要体现丰富的领域知识，结合 `SRP` 原则，我们一般选择将实体的大量业务 `invariants` 封装到值对象中，给一个验证的例子会更加直观，后续会有专门的文章谈一下我对验证的理解和最佳实践。\n",
    "\n",
    "#### 实体的唯一标识符\n",
    "\n",
    "实体的唯一标识符，可以是自然键(`Natural key`) 也可以是代理键(`Surrogate key`)，甚至可能是复合键(`Composite key`)。\n",
    "\n",
    "其实这几种键用过关系型数据库的大家都很容易理解。\n",
    "\n",
    "自然键典型的例子有身份证号、ISBN 等，这种键跟业务的关系很紧密，也十分直观。"
   ]
  },
  {
   "cell_type": "code",
   "execution_count": 3,
   "id": "a305e992",
   "metadata": {},
   "outputs": [
    {
     "name": "stdout",
     "output_type": "stream",
     "text": [
      "Book(903121212121) Book(903121212123) Book(903121212121)\n"
     ]
    }
   ],
   "source": [
    "from dataclasses import dataclass, field\n",
    "\n",
    "@dataclass(frozen=True)\n",
    "class ISBN:\n",
    "    number: str\n",
    "\n",
    "@dataclass\n",
    "class Book:\n",
    "    id: str = field(init=False)\n",
    "    isbn: ISBN\n",
    "\n",
    "    def __post_init__(self) -> None:\n",
    "        self.id = self.isbn.number\n",
    "\n",
    "    def __repr__(self) -> str:\n",
    "        return f'Book({self.id})'\n",
    "    \n",
    "    def __eq__(self, other: 'Book') -> bool:\n",
    "        return self.id == other.id\n",
    "\n",
    "book1 = Book(ISBN('903121212121'))\n",
    "book2 = Book(ISBN('903121212123'))\n",
    "book3 = Book(ISBN('903121212121'))\n",
    "print(book1, book2, book3)\n",
    "assert book1 != book2\n",
    "assert book1 == book3"
   ]
  },
  {
   "attachments": {},
   "cell_type": "markdown",
   "id": "891b11e6",
   "metadata": {},
   "source": [
    "代理键大家用的也比较多了，主要特征就是没有业务属性，比如 MySQL 的自增主键(auto_increment) 或者 UUID / GUID 。"
   ]
  },
  {
   "cell_type": "code",
   "execution_count": 4,
   "id": "b76294ac",
   "metadata": {},
   "outputs": [],
   "source": [
    "import uuid\n",
    "from dataclasses import dataclass\n",
    "\n",
    "@dataclass\n",
    "class Hotel:\n",
    "    id: str = field(init=False)\n",
    "\n",
    "    def __post_init__(self) -> None:\n",
    "        self.id: str = str(uuid.uuid4())"
   ]
  },
  {
   "attachments": {},
   "cell_type": "markdown",
   "id": "82664fca",
   "metadata": {},
   "source": [
    "还有一种是组合键，这种键可能就是用实体的几个字段组合成一个字符串来表示唯一标识符，也体现业务特征，但是往往生成比较麻烦，而且只要业务属性稍有调整就有大麻烦，所以我一般不推荐这种方式。\n",
    "\n",
    "关于这些键的区别和联系还有生产中性能/用户体验各方面的问题，[Choosing A Primary Key: Natural Or Surrogate?](https://agiledata.org/essays/keys.html) 可能是个不错的入门指南。"
   ]
  },
  {
   "attachments": {},
   "cell_type": "markdown",
   "id": "88d9eaa3",
   "metadata": {},
   "source": [
    "## 参考资料\n",
    "* [collections-primitive-obsession](https://enterprisecraftsmanship.com/posts/collections-primitive-obsession/)\n",
    "\n",
    "* [value-objects-with-python](https://blog.szymonmiks.pl/p/value-objects-with-python/)"
   ]
  }
 ],
 "metadata": {
  "kernelspec": {
   "display_name": "Python 3",
   "language": "python",
   "name": "python3"
  },
  "language_info": {
   "codemirror_mode": {
    "name": "ipython",
    "version": 3
   },
   "file_extension": ".py",
   "mimetype": "text/x-python",
   "name": "python",
   "nbconvert_exporter": "python",
   "pygments_lexer": "ipython3",
   "version": "3.9.5"
  },
  "vscode": {
   "interpreter": {
    "hash": "397704579725e15f5c7cb49fe5f0341eb7531c82d19f2c29d197e8b64ab5776b"
   }
  }
 },
 "nbformat": 4,
 "nbformat_minor": 5
}
