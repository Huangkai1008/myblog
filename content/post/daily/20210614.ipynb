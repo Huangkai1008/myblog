{
 "cells": [
  {
   "attachments": {},
   "cell_type": "markdown",
   "id": "762d1156-c44c-4da4-bec1-3516b5dfa692",
   "metadata": {},
   "source": [
    "## 领域驱动设计的战术设计"
   ]
  },
  {
   "attachments": {},
   "cell_type": "markdown",
   "id": "2a7a8f51-d06a-4a21-86f4-ac8cb27c2491",
   "metadata": {
    "slideshow": {
     "slide_type": "slide"
    }
   },
   "source": [
    "DDD 中战术模式的作用是管理复杂性并确保领域模型中行为的清晰性。\n",
    "\n",
    "每种战术模式（`building block pattern`）都是为了解决特定的一类问题。\n",
    "\n",
    "像 `value object` 还有 `entity` 这种并不是 DDD 的专有名词，只是在 DDD 这个语境 (类比于 `Bounded Context`) 下又有了自己的含义。"
   ]
  },
  {
   "attachments": {},
   "cell_type": "markdown",
   "id": "d1873fd1-0156-4c91-9f6a-f39a6c61da6c",
   "metadata": {},
   "source": [
    "### Value Object\n",
    "\n",
    "我们一般用 `Value Object` 来表示没有唯一标识符（`identity`）的概念，比如钱、价格这种。\n",
    "\n",
    "钱这种概念大家应该再熟悉不过了，假设我有一张一百块的人民币，你也有一百块的人民币，在这个情境下，人民币的新旧、编号都不重要，那么它们在 DDD 的概念里是相等的。\n",
    "\n",
    "比较值对象是一个关键操作，尽管它们没有唯一标识符，我们使用基于属性/值（`attribute-based equality`/`value-based equality`）来做对比。\n",
    "\n",
    "还有个比较重要的特征就是值对象是不变的（`Immutable`）。\n",
    "\n",
    "如果用 python 的话，可以用 `dataclass` 这个模块来实现 Value Object。"
   ]
  },
  {
   "cell_type": "code",
   "execution_count": 1,
   "id": "1df644cd-aec7-4265-81e2-0130d62477ee",
   "metadata": {},
   "outputs": [],
   "source": [
    "from dataclasses import dataclass\n",
    "from decimal import Decimal\n",
    "\n",
    "@dataclass(frozen=True)\n",
    "class Money:\n",
    "    amount: Decimal\n",
    "\n",
    "\n",
    "m1 = Money(Decimal(100))\n",
    "m2 = Money(Decimal(100))\n",
    "\n",
    "assert m1 == m2"
   ]
  },
  {
   "attachments": {},
   "cell_type": "markdown",
   "id": "59b96d15-b973-4d73-b1be-1673d85fbf65",
   "metadata": {},
   "source": [
    "值对象需要体现丰富的领域知识，DDD 社区里一般喜欢用值对象来取代原始类型，然后要体现内聚性。最直观的可能就是为这个值对象添加方法或者属性。\n",
    "\n",
    "例如钱和钱可以相加，相减等操作，但是因为值对象是不可变的，所以生成的都是新的值对象。"
   ]
  },
  {
   "cell_type": "code",
   "execution_count": 10,
   "id": "f957b0c7",
   "metadata": {},
   "outputs": [
    {
     "name": "stdout",
     "output_type": "stream",
     "text": [
      "0.50\n",
      "199.50\n"
     ]
    }
   ],
   "source": [
    "from typing import Union\n",
    "from dataclasses import dataclass\n",
    "from decimal import Decimal\n",
    "\n",
    "\n",
    "@dataclass(frozen=True)\n",
    "class Money:\n",
    "    amount: Decimal\n",
    "\n",
    "    @classmethod\n",
    "    def of(cls, amount: Union[int, str, float]) -> 'Money':\n",
    "        return Money(Decimal(amount))\n",
    "\n",
    "    def __add__(self, other: 'Money') -> 'Money':\n",
    "        return Money(self.amount + other.amount)\n",
    "\n",
    "    def __sub__(self, other: 'Money') -> 'Money':\n",
    "        return Money(self.amount - other.amount)\n",
    "\n",
    "    def __repr__(self) -> str:\n",
    "        return f'{self.amount:.2f}'\n",
    "\n",
    "m1 = Money.of(100)\n",
    "m2 = Money.of(99.5)\n",
    "\n",
    "print(m1 - m2)\n",
    "print(m1 + m2)"
   ]
  },
  {
   "attachments": {},
   "cell_type": "markdown",
   "id": "88d9eaa3",
   "metadata": {},
   "source": [
    "## 参考资料\n",
    "* [collections-primitive-obsession](https://enterprisecraftsmanship.com/posts/collections-primitive-obsession/)\n",
    "\n",
    "* [value-objects-with-python](https://blog.szymonmiks.pl/p/value-objects-with-python/)"
   ]
  }
 ],
 "metadata": {
  "kernelspec": {
   "display_name": "Python 3",
   "language": "python",
   "name": "python3"
  },
  "language_info": {
   "codemirror_mode": {
    "name": "ipython",
    "version": 3
   },
   "file_extension": ".py",
   "mimetype": "text/x-python",
   "name": "python",
   "nbconvert_exporter": "python",
   "pygments_lexer": "ipython3",
   "version": "3.9.5"
  },
  "vscode": {
   "interpreter": {
    "hash": "397704579725e15f5c7cb49fe5f0341eb7531c82d19f2c29d197e8b64ab5776b"
   }
  }
 },
 "nbformat": 4,
 "nbformat_minor": 5
}
